{
 "cells": [
  {
   "cell_type": "code",
   "execution_count": 1,
   "metadata": {},
   "outputs": [
    {
     "name": "stderr",
     "output_type": "stream",
     "text": [
      "Using TensorFlow backend.\n"
     ]
    }
   ],
   "source": [
    "import numpy as np\n",
    "import pandas as pd\n",
    "import matplotlib.pyplot as plt\n",
    "from keras.models import Sequential\n",
    "from keras.layers import Dense, SimpleRNN, Dropout\n",
    "from sklearn.preprocessing import MinMaxScaler\n",
    "from keras import backend as K"
   ]
  },
  {
   "cell_type": "code",
   "execution_count": 2,
   "metadata": {},
   "outputs": [
    {
     "data": {
      "text/html": [
       "<div>\n",
       "<style scoped>\n",
       "    .dataframe tbody tr th:only-of-type {\n",
       "        vertical-align: middle;\n",
       "    }\n",
       "\n",
       "    .dataframe tbody tr th {\n",
       "        vertical-align: top;\n",
       "    }\n",
       "\n",
       "    .dataframe thead th {\n",
       "        text-align: right;\n",
       "    }\n",
       "</style>\n",
       "<table border=\"1\" class=\"dataframe\">\n",
       "  <thead>\n",
       "    <tr style=\"text-align: right;\">\n",
       "      <th></th>\n",
       "      <th>Date</th>\n",
       "      <th>Close</th>\n",
       "      <th>Open</th>\n",
       "      <th>High</th>\n",
       "      <th>Low</th>\n",
       "      <th>Volume</th>\n",
       "    </tr>\n",
       "  </thead>\n",
       "  <tbody>\n",
       "    <tr>\n",
       "      <th>0</th>\n",
       "      <td>2010.1.4</td>\n",
       "      <td>81.51</td>\n",
       "      <td>79.63</td>\n",
       "      <td>81.79</td>\n",
       "      <td>79.63</td>\n",
       "      <td>263.54K</td>\n",
       "    </tr>\n",
       "    <tr>\n",
       "      <th>1</th>\n",
       "      <td>2010.1.5</td>\n",
       "      <td>81.77</td>\n",
       "      <td>81.63</td>\n",
       "      <td>82.00</td>\n",
       "      <td>80.95</td>\n",
       "      <td>258.89K</td>\n",
       "    </tr>\n",
       "    <tr>\n",
       "      <th>2</th>\n",
       "      <td>2010.1.6</td>\n",
       "      <td>83.18</td>\n",
       "      <td>81.43</td>\n",
       "      <td>83.52</td>\n",
       "      <td>80.85</td>\n",
       "      <td>370.06K</td>\n",
       "    </tr>\n",
       "    <tr>\n",
       "      <th>3</th>\n",
       "      <td>2010.1.7</td>\n",
       "      <td>82.66</td>\n",
       "      <td>83.20</td>\n",
       "      <td>83.36</td>\n",
       "      <td>82.26</td>\n",
       "      <td>246.63K</td>\n",
       "    </tr>\n",
       "    <tr>\n",
       "      <th>4</th>\n",
       "      <td>2010.1.8</td>\n",
       "      <td>82.75</td>\n",
       "      <td>82.65</td>\n",
       "      <td>83.47</td>\n",
       "      <td>81.80</td>\n",
       "      <td>310.38K</td>\n",
       "    </tr>\n",
       "  </tbody>\n",
       "</table>\n",
       "</div>"
      ],
      "text/plain": [
       "       Date  Close   Open   High    Low   Volume\n",
       "0  2010.1.4  81.51  79.63  81.79  79.63  263.54K\n",
       "1  2010.1.5  81.77  81.63  82.00  80.95  258.89K\n",
       "2  2010.1.6  83.18  81.43  83.52  80.85  370.06K\n",
       "3  2010.1.7  82.66  83.20  83.36  82.26  246.63K\n",
       "4  2010.1.8  82.75  82.65  83.47  81.80  310.38K"
      ]
     },
     "execution_count": 2,
     "metadata": {},
     "output_type": "execute_result"
    }
   ],
   "source": [
    "data = pd.read_csv('data/data.csv')\n",
    "data.dropna(axis=0)\n",
    "data.head()"
   ]
  },
  {
   "cell_type": "code",
   "execution_count": 3,
   "metadata": {},
   "outputs": [
    {
     "data": {
      "text/plain": [
       "array([[80.71 ],\n",
       "       [81.475],\n",
       "       [82.185],\n",
       "       ...,\n",
       "       [37.03 ],\n",
       "       [37.   ],\n",
       "       [38.365]])"
      ]
     },
     "execution_count": 3,
     "metadata": {},
     "output_type": "execute_result"
    }
   ],
   "source": [
    "#데이터 구성\n",
    "\n",
    "high_prices = data['High'].values\n",
    "low_prices = data['Low'].values\n",
    "mid_prices = (high_prices + low_prices) / 2\n",
    "mid_prices = mid_prices.reshape(-1, 1)\n",
    "mid_prices"
   ]
  },
  {
   "cell_type": "code",
   "execution_count": 4,
   "metadata": {},
   "outputs": [],
   "source": [
    "#데이터셋 생성함수\n",
    "\n",
    "def create_dataset(signal_data, look_back=1):\n",
    "    dataX, dataY = [], []\n",
    "    for i in range(len(signal_data)-look_back):\n",
    "        dataX.append(signal_data[i:(i+look_back), 0])\n",
    "        dataY.append(signal_data[i + look_back, 0])\n",
    "    return np.array(dataX), np.array(dataY)"
   ]
  },
  {
   "cell_type": "code",
   "execution_count": 5,
   "metadata": {},
   "outputs": [],
   "source": [
    "look_back = 10"
   ]
  },
  {
   "cell_type": "code",
   "execution_count": 6,
   "metadata": {},
   "outputs": [
    {
     "data": {
      "text/plain": [
       "array([[0.67923225],\n",
       "       [0.68678147],\n",
       "       [0.69378793],\n",
       "       ...,\n",
       "       [0.24818671],\n",
       "       [0.24789066],\n",
       "       [0.26136083]])"
      ]
     },
     "execution_count": 6,
     "metadata": {},
     "output_type": "execute_result"
    }
   ],
   "source": [
    "# 데이터 전처리 scale (0,1)\n",
    "\n",
    "scaler = MinMaxScaler(feature_range=(0, 1))\n",
    "signal_data = scaler.fit_transform(mid_prices)\n",
    "signal_data"
   ]
  },
  {
   "cell_type": "code",
   "execution_count": 7,
   "metadata": {},
   "outputs": [
    {
     "name": "stdout",
     "output_type": "stream",
     "text": [
      "2435 271\n"
     ]
    }
   ],
   "source": [
    "# train, test\n",
    "\n",
    "train_size = int(len(signal_data) * 0.9)\n",
    "test_size = len(signal_data) - train_size\n",
    "train, test = signal_data[0:train_size], signal_data[train_size:len(signal_data)]\n",
    "print(len(train), len(test))"
   ]
  },
  {
   "cell_type": "code",
   "execution_count": 8,
   "metadata": {},
   "outputs": [
    {
     "data": {
      "text/plain": [
       "((2425, 10), (2425,), (261, 10), (261,))"
      ]
     },
     "execution_count": 8,
     "metadata": {},
     "output_type": "execute_result"
    }
   ],
   "source": [
    "# 데이터셋 생성\n",
    "\n",
    "trainX, trainY = create_dataset(train, look_back)\n",
    "testX, testY = create_dataset(test, look_back)\n",
    "trainX.shape, trainY.shape, testX.shape, testY.shape"
   ]
  },
  {
   "cell_type": "code",
   "execution_count": 9,
   "metadata": {},
   "outputs": [
    {
     "data": {
      "text/plain": [
       "((2425, 1, 10), (261, 1, 10))"
      ]
     },
     "execution_count": 9,
     "metadata": {},
     "output_type": "execute_result"
    }
   ],
   "source": [
    "# reshape\n",
    "\n",
    "trainX = np.reshape(trainX, (trainX.shape[0], 1, trainX.shape[1]))\n",
    "testX = np.reshape(testX, (testX.shape[0], 1, testX.shape[1]))\n",
    "trainX.shape, testX.shape"
   ]
  },
  {
   "cell_type": "code",
   "execution_count": 10,
   "metadata": {},
   "outputs": [],
   "source": [
    "# root_mean_squared_error\n",
    "\n",
    "def root_mean_squared_error(y_true, y_pred):\n",
    "        return K.sqrt(K.mean(K.square(y_pred - y_true))) "
   ]
  },
  {
   "cell_type": "code",
   "execution_count": 11,
   "metadata": {},
   "outputs": [
    {
     "name": "stdout",
     "output_type": "stream",
     "text": [
      "Model: \"sequential_1\"\n",
      "_________________________________________________________________\n",
      "Layer (type)                 Output Shape              Param #   \n",
      "=================================================================\n",
      "simple_rnn_1 (SimpleRNN)     (None, 1, 50)             3050      \n",
      "_________________________________________________________________\n",
      "dropout_1 (Dropout)          (None, 1, 50)             0         \n",
      "_________________________________________________________________\n",
      "simple_rnn_2 (SimpleRNN)     (None, 64)                7360      \n",
      "_________________________________________________________________\n",
      "dropout_2 (Dropout)          (None, 64)                0         \n",
      "_________________________________________________________________\n",
      "dense_1 (Dense)              (None, 1)                 65        \n",
      "=================================================================\n",
      "Total params: 10,475\n",
      "Trainable params: 10,475\n",
      "Non-trainable params: 0\n",
      "_________________________________________________________________\n"
     ]
    }
   ],
   "source": [
    "#RNN 모델\n",
    "\n",
    "model = Sequential()\n",
    "\n",
    "model.add(SimpleRNN(50, return_sequences=True,  input_shape=(1, look_back)))\n",
    "model.add(Dropout(0.3))\n",
    "model.add(SimpleRNN(64, return_sequences=False))\n",
    "model.add(Dropout(0.3))\n",
    "model.add(Dense(1, activation='linear')) #다음날 하루\n",
    "model.compile(loss=root_mean_squared_error, optimizer='Adam')\n",
    "model.summary()"
   ]
  },
  {
   "cell_type": "code",
   "execution_count": 12,
   "metadata": {},
   "outputs": [
    {
     "name": "stdout",
     "output_type": "stream",
     "text": [
      "Train on 2425 samples, validate on 261 samples\n",
      "Epoch 1/100\n",
      "2425/2425 [==============================] - 1s 354us/step - loss: 0.1755 - val_loss: 0.0304\n",
      "Epoch 2/100\n",
      "2425/2425 [==============================] - 0s 132us/step - loss: 0.0808 - val_loss: 0.0192\n",
      "Epoch 3/100\n",
      "2425/2425 [==============================] - 0s 131us/step - loss: 0.0642 - val_loss: 0.0209\n",
      "Epoch 4/100\n",
      "2425/2425 [==============================] - 0s 131us/step - loss: 0.0612 - val_loss: 0.0387\n",
      "Epoch 5/100\n",
      "2425/2425 [==============================] - 0s 137us/step - loss: 0.0559 - val_loss: 0.0181\n",
      "Epoch 6/100\n",
      "2425/2425 [==============================] - 0s 138us/step - loss: 0.0560 - val_loss: 0.0341\n",
      "Epoch 7/100\n",
      "2425/2425 [==============================] - 0s 133us/step - loss: 0.0540 - val_loss: 0.0199\n",
      "Epoch 8/100\n",
      "2425/2425 [==============================] - 0s 135us/step - loss: 0.0503 - val_loss: 0.0216\n",
      "Epoch 9/100\n",
      "2425/2425 [==============================] - 0s 133us/step - loss: 0.0462 - val_loss: 0.0219\n",
      "Epoch 10/100\n",
      "2425/2425 [==============================] - 0s 137us/step - loss: 0.0448 - val_loss: 0.0241\n",
      "Epoch 11/100\n",
      "2425/2425 [==============================] - 0s 135us/step - loss: 0.0463 - val_loss: 0.0156\n",
      "Epoch 12/100\n",
      "2425/2425 [==============================] - 0s 133us/step - loss: 0.0431 - val_loss: 0.0227\n",
      "Epoch 13/100\n",
      "2425/2425 [==============================] - 0s 144us/step - loss: 0.0412 - val_loss: 0.0249\n",
      "Epoch 14/100\n",
      "2425/2425 [==============================] - 0s 142us/step - loss: 0.0431 - val_loss: 0.0199\n",
      "Epoch 15/100\n",
      "2425/2425 [==============================] - 0s 137us/step - loss: 0.0388 - val_loss: 0.0160\n",
      "Epoch 16/100\n",
      "2425/2425 [==============================] - 0s 136us/step - loss: 0.0394 - val_loss: 0.0214\n",
      "Epoch 17/100\n",
      "2425/2425 [==============================] - 0s 134us/step - loss: 0.0372 - val_loss: 0.0217\n",
      "Epoch 18/100\n",
      "2425/2425 [==============================] - 0s 138us/step - loss: 0.0382 - val_loss: 0.0224\n",
      "Epoch 19/100\n",
      "2425/2425 [==============================] - 0s 143us/step - loss: 0.0358 - val_loss: 0.0272\n",
      "Epoch 20/100\n",
      "2425/2425 [==============================] - 0s 154us/step - loss: 0.0365 - val_loss: 0.0199\n",
      "Epoch 21/100\n",
      "2425/2425 [==============================] - 0s 135us/step - loss: 0.0365 - val_loss: 0.0168\n",
      "Epoch 22/100\n",
      "2425/2425 [==============================] - 0s 135us/step - loss: 0.0353 - val_loss: 0.0178\n",
      "Epoch 23/100\n",
      "2425/2425 [==============================] - 0s 138us/step - loss: 0.0368 - val_loss: 0.0166\n",
      "Epoch 24/100\n",
      "2425/2425 [==============================] - 0s 138us/step - loss: 0.0351 - val_loss: 0.0161\n",
      "Epoch 25/100\n",
      "2425/2425 [==============================] - 0s 139us/step - loss: 0.0346 - val_loss: 0.0167\n",
      "Epoch 26/100\n",
      "2425/2425 [==============================] - 0s 138us/step - loss: 0.0351 - val_loss: 0.0163\n",
      "Epoch 27/100\n",
      "2425/2425 [==============================] - 0s 138us/step - loss: 0.0333 - val_loss: 0.0165\n",
      "Epoch 28/100\n",
      "2425/2425 [==============================] - 0s 139us/step - loss: 0.0351 - val_loss: 0.0159\n",
      "Epoch 29/100\n",
      "2425/2425 [==============================] - 0s 137us/step - loss: 0.0326 - val_loss: 0.0176\n",
      "Epoch 30/100\n",
      "2425/2425 [==============================] - 0s 144us/step - loss: 0.0331 - val_loss: 0.0153\n",
      "Epoch 31/100\n",
      "2425/2425 [==============================] - 0s 176us/step - loss: 0.0351 - val_loss: 0.0170\n",
      "Epoch 32/100\n",
      "2425/2425 [==============================] - 0s 183us/step - loss: 0.0346 - val_loss: 0.0187\n",
      "Epoch 33/100\n",
      "2425/2425 [==============================] - 0s 183us/step - loss: 0.0332 - val_loss: 0.0202\n",
      "Epoch 34/100\n",
      "2425/2425 [==============================] - 0s 183us/step - loss: 0.0338 - val_loss: 0.0154\n",
      "Epoch 35/100\n",
      "2425/2425 [==============================] - 0s 185us/step - loss: 0.0331 - val_loss: 0.0245\n",
      "Epoch 36/100\n",
      "2425/2425 [==============================] - 0s 178us/step - loss: 0.0330 - val_loss: 0.0189\n",
      "Epoch 37/100\n",
      "2425/2425 [==============================] - 0s 138us/step - loss: 0.0340 - val_loss: 0.0173\n",
      "Epoch 38/100\n",
      "2425/2425 [==============================] - 0s 150us/step - loss: 0.0315 - val_loss: 0.0198\n",
      "Epoch 39/100\n",
      "2425/2425 [==============================] - 0s 139us/step - loss: 0.0327 - val_loss: 0.0178\n",
      "Epoch 40/100\n",
      "2425/2425 [==============================] - 0s 149us/step - loss: 0.0330 - val_loss: 0.0209\n",
      "Epoch 41/100\n",
      "2425/2425 [==============================] - 0s 190us/step - loss: 0.0328 - val_loss: 0.0175\n",
      "Epoch 42/100\n",
      "2425/2425 [==============================] - 0s 145us/step - loss: 0.0328 - val_loss: 0.0175\n",
      "Epoch 43/100\n",
      "2425/2425 [==============================] - 0s 141us/step - loss: 0.0331 - val_loss: 0.0184\n",
      "Epoch 44/100\n",
      "2425/2425 [==============================] - 0s 141us/step - loss: 0.0319 - val_loss: 0.0166\n",
      "Epoch 45/100\n",
      "2425/2425 [==============================] - 0s 142us/step - loss: 0.0320 - val_loss: 0.0236\n",
      "Epoch 46/100\n",
      "2425/2425 [==============================] - 0s 141us/step - loss: 0.0334 - val_loss: 0.0160\n",
      "Epoch 47/100\n",
      "2425/2425 [==============================] - 0s 151us/step - loss: 0.0329 - val_loss: 0.0253\n",
      "Epoch 48/100\n",
      "2425/2425 [==============================] - 0s 184us/step - loss: 0.0326 - val_loss: 0.0246\n",
      "Epoch 49/100\n",
      "2425/2425 [==============================] - 0s 160us/step - loss: 0.0328 - val_loss: 0.0164\n",
      "Epoch 50/100\n",
      "2425/2425 [==============================] - 0s 143us/step - loss: 0.0312 - val_loss: 0.0212\n",
      "Epoch 51/100\n",
      "2425/2425 [==============================] - 0s 127us/step - loss: 0.0321 - val_loss: 0.0158\n",
      "Epoch 52/100\n",
      "2425/2425 [==============================] - 0s 170us/step - loss: 0.0316 - val_loss: 0.0167\n",
      "Epoch 53/100\n",
      "2425/2425 [==============================] - 0s 128us/step - loss: 0.0329 - val_loss: 0.0247\n",
      "Epoch 54/100\n",
      "2425/2425 [==============================] - 0s 135us/step - loss: 0.0307 - val_loss: 0.0191\n",
      "Epoch 55/100\n",
      "2425/2425 [==============================] - 0s 125us/step - loss: 0.0329 - val_loss: 0.0183\n",
      "Epoch 56/100\n",
      "2425/2425 [==============================] - 0s 137us/step - loss: 0.0319 - val_loss: 0.0262\n",
      "Epoch 57/100\n",
      "2425/2425 [==============================] - 0s 126us/step - loss: 0.0320 - val_loss: 0.0172\n",
      "Epoch 58/100\n",
      "2425/2425 [==============================] - 0s 146us/step - loss: 0.0313 - val_loss: 0.0185\n",
      "Epoch 59/100\n",
      "2425/2425 [==============================] - 0s 129us/step - loss: 0.0325 - val_loss: 0.0205\n",
      "Epoch 60/100\n",
      "2425/2425 [==============================] - 0s 130us/step - loss: 0.0318 - val_loss: 0.0192\n",
      "Epoch 61/100\n",
      "2425/2425 [==============================] - 0s 122us/step - loss: 0.0320 - val_loss: 0.0168\n",
      "Epoch 62/100\n",
      "2425/2425 [==============================] - 0s 124us/step - loss: 0.0309 - val_loss: 0.0194\n",
      "Epoch 63/100\n",
      "2425/2425 [==============================] - 0s 123us/step - loss: 0.0311 - val_loss: 0.0187\n",
      "Epoch 64/100\n",
      "2425/2425 [==============================] - 0s 130us/step - loss: 0.0315 - val_loss: 0.0183\n",
      "Epoch 65/100\n",
      "2425/2425 [==============================] - 0s 123us/step - loss: 0.0311 - val_loss: 0.0167\n",
      "Epoch 66/100\n",
      "2425/2425 [==============================] - 0s 133us/step - loss: 0.0336 - val_loss: 0.0238\n",
      "Epoch 67/100\n",
      "2425/2425 [==============================] - 0s 126us/step - loss: 0.0337 - val_loss: 0.0184\n",
      "Epoch 68/100\n",
      "2425/2425 [==============================] - 0s 130us/step - loss: 0.0325 - val_loss: 0.0239\n",
      "Epoch 69/100\n",
      "2425/2425 [==============================] - 0s 133us/step - loss: 0.0319 - val_loss: 0.0207\n",
      "Epoch 70/100\n",
      "2425/2425 [==============================] - 0s 182us/step - loss: 0.0319 - val_loss: 0.0211\n",
      "Epoch 71/100\n",
      "2425/2425 [==============================] - 0s 168us/step - loss: 0.0312 - val_loss: 0.0176\n",
      "Epoch 72/100\n",
      "2425/2425 [==============================] - 0s 174us/step - loss: 0.0316 - val_loss: 0.0172\n",
      "Epoch 73/100\n",
      "2425/2425 [==============================] - 0s 166us/step - loss: 0.0321 - val_loss: 0.0296\n",
      "Epoch 74/100\n",
      "2425/2425 [==============================] - 0s 136us/step - loss: 0.0319 - val_loss: 0.0172\n",
      "Epoch 75/100\n",
      "2425/2425 [==============================] - 0s 150us/step - loss: 0.0315 - val_loss: 0.0250\n",
      "Epoch 76/100\n",
      "2425/2425 [==============================] - 0s 142us/step - loss: 0.0311 - val_loss: 0.0163\n",
      "Epoch 77/100\n",
      "2425/2425 [==============================] - 0s 135us/step - loss: 0.0326 - val_loss: 0.0297\n"
     ]
    },
    {
     "name": "stdout",
     "output_type": "stream",
     "text": [
      "Epoch 78/100\n",
      "2425/2425 [==============================] - 0s 128us/step - loss: 0.0299 - val_loss: 0.0186\n",
      "Epoch 79/100\n",
      "2425/2425 [==============================] - 0s 128us/step - loss: 0.0316 - val_loss: 0.0173\n",
      "Epoch 80/100\n",
      "2425/2425 [==============================] - 0s 131us/step - loss: 0.0314 - val_loss: 0.0200\n",
      "Epoch 81/100\n",
      "2425/2425 [==============================] - 0s 129us/step - loss: 0.0314 - val_loss: 0.0195\n",
      "Epoch 82/100\n",
      "2425/2425 [==============================] - 0s 135us/step - loss: 0.0323 - val_loss: 0.0162\n",
      "Epoch 83/100\n",
      "2425/2425 [==============================] - 0s 138us/step - loss: 0.0316 - val_loss: 0.0174\n",
      "Epoch 84/100\n",
      "2425/2425 [==============================] - 0s 130us/step - loss: 0.0316 - val_loss: 0.0185\n",
      "Epoch 85/100\n",
      "2425/2425 [==============================] - 0s 144us/step - loss: 0.0323 - val_loss: 0.0235\n",
      "Epoch 86/100\n",
      "2425/2425 [==============================] - 0s 193us/step - loss: 0.0322 - val_loss: 0.0160\n",
      "Epoch 87/100\n",
      "2425/2425 [==============================] - 0s 186us/step - loss: 0.0305 - val_loss: 0.0217\n",
      "Epoch 88/100\n",
      "2425/2425 [==============================] - 0s 129us/step - loss: 0.0311 - val_loss: 0.0180\n",
      "Epoch 89/100\n",
      "2425/2425 [==============================] - 0s 123us/step - loss: 0.0311 - val_loss: 0.0216\n",
      "Epoch 90/100\n",
      "2425/2425 [==============================] - 0s 123us/step - loss: 0.0325 - val_loss: 0.0272\n",
      "Epoch 91/100\n",
      "2425/2425 [==============================] - 0s 124us/step - loss: 0.0320 - val_loss: 0.0198\n",
      "Epoch 92/100\n",
      "2425/2425 [==============================] - 0s 133us/step - loss: 0.0303 - val_loss: 0.0167\n",
      "Epoch 93/100\n",
      "2425/2425 [==============================] - 0s 133us/step - loss: 0.0311 - val_loss: 0.0150\n",
      "Epoch 94/100\n",
      "2425/2425 [==============================] - 0s 129us/step - loss: 0.0317 - val_loss: 0.0218\n",
      "Epoch 95/100\n",
      "2425/2425 [==============================] - 0s 132us/step - loss: 0.0315 - val_loss: 0.0165\n",
      "Epoch 96/100\n",
      "2425/2425 [==============================] - 0s 123us/step - loss: 0.0319 - val_loss: 0.0204\n",
      "Epoch 97/100\n",
      "2425/2425 [==============================] - 0s 124us/step - loss: 0.0316 - val_loss: 0.0148\n",
      "Epoch 98/100\n",
      "2425/2425 [==============================] - 0s 124us/step - loss: 0.0327 - val_loss: 0.0287\n",
      "Epoch 99/100\n",
      "2425/2425 [==============================] - 0s 142us/step - loss: 0.0311 - val_loss: 0.0189\n",
      "Epoch 100/100\n",
      "2425/2425 [==============================] - 0s 159us/step - loss: 0.0314 - val_loss: 0.0181\n"
     ]
    },
    {
     "data": {
      "text/plain": [
       "<keras.callbacks.callbacks.History at 0x1a3a5911d0>"
      ]
     },
     "execution_count": 12,
     "metadata": {},
     "output_type": "execute_result"
    }
   ],
   "source": [
    "#RNN 학습\n",
    "\n",
    "model.fit(trainX, trainY,\n",
    "         validation_data=(testX, testY),\n",
    "         batch_size = 10,\n",
    "         epochs = 100)"
   ]
  },
  {
   "cell_type": "code",
   "execution_count": 13,
   "metadata": {},
   "outputs": [
    {
     "data": {
      "image/png": "[encoded data removed]",
      "text/plain": [
       "<Figure size 1440x720 with 1 Axes>"
      ]
     },
     "metadata": {
      "needs_background": "light"
     },
     "output_type": "display_data"
    }
   ],
   "source": [
    "#RNN 예측\n",
    "\n",
    "pred = model.predict(testX)\n",
    "\n",
    "fig = plt.figure(figsize=(20, 10))\n",
    "ax = fig.add_subplot(111)\n",
    "ax.plot(testY, label='True')\n",
    "ax.plot(pred, label='Prediction')\n",
    "plt.xlabel('period',fontsize=20)\n",
    "plt.ylabel('normalizedData_midPrices',fontsize=20)\n",
    "ax.legend()\n",
    "plt.show()"
   ]
  }
 ],
 "metadata": {
  "kernelspec": {
   "display_name": "Python 3.7.4 64-bit ('base': conda)",
   "language": "python",
   "name": "python37464bitbasecondaf4ac3d94617a485cbbe5ada1a6682628"
  },
  "language_info": {
   "codemirror_mode": {
    "name": "ipython",
    "version": 3
   },
   "file_extension": ".py",
   "mimetype": "text/x-python",
   "name": "python",
   "nbconvert_exporter": "python",
   "pygments_lexer": "ipython3",
   "version": "3.6.10"
  }
 },
 "nbformat": 4,
 "nbformat_minor": 4
}
