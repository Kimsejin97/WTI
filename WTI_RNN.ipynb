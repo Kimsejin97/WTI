{
 "cells": [
  {
   "cell_type": "code",
   "execution_count": 1,
   "metadata": {},
   "outputs": [
    {
     "name": "stderr",
     "output_type": "stream",
     "text": [
      "Using TensorFlow backend.\n"
     ]
    }
   ],
   "source": [
    "import numpy as np\n",
    "import pandas as pd\n",
    "import matplotlib.pyplot as plt\n",
    "from keras.models import Sequential\n",
    "from keras.layers import Dense, SimpleRNN, Dropout"
   ]
  },
  {
   "cell_type": "code",
   "execution_count": 2,
   "metadata": {},
   "outputs": [
    {
     "data": {
      "text/html": [
       "<div>\n",
       "<style scoped>\n",
       "    .dataframe tbody tr th:only-of-type {\n",
       "        vertical-align: middle;\n",
       "    }\n",
       "\n",
       "    .dataframe tbody tr th {\n",
       "        vertical-align: top;\n",
       "    }\n",
       "\n",
       "    .dataframe thead th {\n",
       "        text-align: right;\n",
       "    }\n",
       "</style>\n",
       "<table border=\"1\" class=\"dataframe\">\n",
       "  <thead>\n",
       "    <tr style=\"text-align: right;\">\n",
       "      <th></th>\n",
       "      <th>Date</th>\n",
       "      <th>Close</th>\n",
       "      <th>Open</th>\n",
       "      <th>High</th>\n",
       "      <th>Low</th>\n",
       "      <th>Volume</th>\n",
       "    </tr>\n",
       "  </thead>\n",
       "  <tbody>\n",
       "    <tr>\n",
       "      <th>0</th>\n",
       "      <td>2010.1.4</td>\n",
       "      <td>81.51</td>\n",
       "      <td>79.63</td>\n",
       "      <td>81.79</td>\n",
       "      <td>79.63</td>\n",
       "      <td>263.54K</td>\n",
       "    </tr>\n",
       "    <tr>\n",
       "      <th>1</th>\n",
       "      <td>2010.1.5</td>\n",
       "      <td>81.77</td>\n",
       "      <td>81.63</td>\n",
       "      <td>82.00</td>\n",
       "      <td>80.95</td>\n",
       "      <td>258.89K</td>\n",
       "    </tr>\n",
       "    <tr>\n",
       "      <th>2</th>\n",
       "      <td>2010.1.6</td>\n",
       "      <td>83.18</td>\n",
       "      <td>81.43</td>\n",
       "      <td>83.52</td>\n",
       "      <td>80.85</td>\n",
       "      <td>370.06K</td>\n",
       "    </tr>\n",
       "    <tr>\n",
       "      <th>3</th>\n",
       "      <td>2010.1.7</td>\n",
       "      <td>82.66</td>\n",
       "      <td>83.20</td>\n",
       "      <td>83.36</td>\n",
       "      <td>82.26</td>\n",
       "      <td>246.63K</td>\n",
       "    </tr>\n",
       "    <tr>\n",
       "      <th>4</th>\n",
       "      <td>2010.1.8</td>\n",
       "      <td>82.75</td>\n",
       "      <td>82.65</td>\n",
       "      <td>83.47</td>\n",
       "      <td>81.80</td>\n",
       "      <td>310.38K</td>\n",
       "    </tr>\n",
       "  </tbody>\n",
       "</table>\n",
       "</div>"
      ],
      "text/plain": [
       "       Date  Close   Open   High    Low   Volume\n",
       "0  2010.1.4  81.51  79.63  81.79  79.63  263.54K\n",
       "1  2010.1.5  81.77  81.63  82.00  80.95  258.89K\n",
       "2  2010.1.6  83.18  81.43  83.52  80.85  370.06K\n",
       "3  2010.1.7  82.66  83.20  83.36  82.26  246.63K\n",
       "4  2010.1.8  82.75  82.65  83.47  81.80  310.38K"
      ]
     },
     "execution_count": 2,
     "metadata": {},
     "output_type": "execute_result"
    }
   ],
   "source": [
    "data = pd.read_csv('data/data.csv')\n",
    "data.dropna(axis=0)\n",
    "data.head()"
   ]
  },
  {
   "cell_type": "code",
   "execution_count": 3,
   "metadata": {},
   "outputs": [],
   "source": [
    "#데이터 구성\n",
    "\n",
    "high_prices = data['High'].values\n",
    "low_prices = data['Low'].values\n",
    "mid_prices = (high_prices + low_prices) / 2"
   ]
  },
  {
   "cell_type": "code",
   "execution_count": 4,
   "metadata": {},
   "outputs": [],
   "source": [
    "#윈도우 만들기\n",
    "#최근 28일간 데이터를 보고 내일을 예측함\n",
    "\n",
    "seq_len = 28\n",
    "sequence_length = seq_len + 1\n",
    "\n",
    "result = []\n",
    "for index in range(len(mid_prices) - sequence_length):\n",
    "    result.append(mid_prices[index: index + sequence_length])"
   ]
  },
  {
   "cell_type": "code",
   "execution_count": 5,
   "metadata": {},
   "outputs": [],
   "source": [
    "#데이터 정규화\n",
    "#첫번째 값 0 윈도우의 값을 정규화함\n",
    "#10/01, 10/02라면 첫번째는 0, 두번째는 (02/01) -1\n",
    "\n",
    "normalized_data = []\n",
    "for window in result:\n",
    "    normalized_window = [((float(p) / float(window[0])) - 1) for p in window]\n",
    "    normalized_data.append(normalized_window)\n",
    "\n",
    "result = np.array(normalized_data)"
   ]
  },
  {
   "cell_type": "code",
   "execution_count": 6,
   "metadata": {},
   "outputs": [
    {
     "data": {
      "text/plain": [
       "((2409, 28, 1), (268, 28, 1))"
      ]
     },
     "execution_count": 6,
     "metadata": {},
     "output_type": "execute_result"
    }
   ],
   "source": [
    "\n",
    "row = int(round(result.shape[0] * 0.9))\n",
    "train = result[:row, :]\n",
    "np.random.shuffle(train)\n",
    "\n",
    "x_train = train[:, :-1]\n",
    "x_train = np.reshape(x_train, (x_train.shape[0], x_train.shape[1], 1))\n",
    "y_train = train[:, -1]\n",
    "\n",
    "x_test = result[row:, :-1]\n",
    "x_test = np.reshape(x_test, (x_test.shape[0], x_test.shape[1], 1))\n",
    "y_test = result[row:, -1]\n",
    "\n",
    "x_train.shape, x_test.shape"
   ]
  },
  {
   "cell_type": "code",
   "execution_count": 7,
   "metadata": {},
   "outputs": [
    {
     "name": "stdout",
     "output_type": "stream",
     "text": [
      "Model: \"sequential_1\"\n",
      "_________________________________________________________________\n",
      "Layer (type)                 Output Shape              Param #   \n",
      "=================================================================\n",
      "simple_rnn_1 (SimpleRNN)     (None, 28, 50)            2600      \n",
      "_________________________________________________________________\n",
      "dropout_1 (Dropout)          (None, 28, 50)            0         \n",
      "_________________________________________________________________\n",
      "simple_rnn_2 (SimpleRNN)     (None, 64)                7360      \n",
      "_________________________________________________________________\n",
      "dropout_2 (Dropout)          (None, 64)                0         \n",
      "_________________________________________________________________\n",
      "dense_1 (Dense)              (None, 1)                 65        \n",
      "=================================================================\n",
      "Total params: 10,025\n",
      "Trainable params: 10,025\n",
      "Non-trainable params: 0\n",
      "_________________________________________________________________\n"
     ]
    }
   ],
   "source": [
    "#RNN 모델\n",
    "\n",
    "model = Sequential()\n",
    "\n",
    "model.add(SimpleRNN(50, return_sequences=True, input_shape=(28, 1)))\n",
    "model.add(Dropout(0.3))\n",
    "model.add(SimpleRNN(64, return_sequences=False))\n",
    "model.add(Dropout(0.3))\n",
    "model.add(Dense(1, activation='linear')) #다음날 하루\n",
    "model.compile(loss='mse', optimizer='rmsprop')\n",
    "model.summary()"
   ]
  },
  {
   "cell_type": "code",
   "execution_count": 8,
   "metadata": {},
   "outputs": [
    {
     "name": "stdout",
     "output_type": "stream",
     "text": [
      "Train on 2409 samples, validate on 268 samples\n",
      "Epoch 1/20\n",
      "2409/2409 [==============================] - 3s 1ms/step - loss: 0.0077 - val_loss: 0.0070\n",
      "Epoch 2/20\n",
      "2409/2409 [==============================] - 2s 845us/step - loss: 8.2847e-04 - val_loss: 0.0046\n",
      "Epoch 3/20\n",
      "2409/2409 [==============================] - 2s 854us/step - loss: 6.3241e-04 - val_loss: 0.0039\n",
      "Epoch 4/20\n",
      "2409/2409 [==============================] - 2s 861us/step - loss: 6.2501e-04 - val_loss: 0.0023\n",
      "Epoch 5/20\n",
      "2409/2409 [==============================] - 2s 871us/step - loss: 5.8360e-04 - val_loss: 0.0033\n",
      "Epoch 6/20\n",
      "2409/2409 [==============================] - 2s 862us/step - loss: 5.4038e-04 - val_loss: 0.0030\n",
      "Epoch 7/20\n",
      "2409/2409 [==============================] - 2s 824us/step - loss: 5.3064e-04 - val_loss: 0.0031\n",
      "Epoch 8/20\n",
      "2409/2409 [==============================] - 2s 820us/step - loss: 5.1336e-04 - val_loss: 0.0034\n",
      "Epoch 9/20\n",
      "2409/2409 [==============================] - 2s 813us/step - loss: 5.1963e-04 - val_loss: 0.0026\n",
      "Epoch 10/20\n",
      "2409/2409 [==============================] - 2s 837us/step - loss: 4.9816e-04 - val_loss: 0.0034\n",
      "Epoch 11/20\n",
      "2409/2409 [==============================] - 2s 837us/step - loss: 5.0463e-04 - val_loss: 0.0036\n",
      "Epoch 12/20\n",
      "2409/2409 [==============================] - 2s 820us/step - loss: 4.7191e-04 - val_loss: 0.0036\n",
      "Epoch 13/20\n",
      "2409/2409 [==============================] - 2s 813us/step - loss: 4.7177e-04 - val_loss: 0.0036\n",
      "Epoch 14/20\n",
      "2409/2409 [==============================] - 2s 827us/step - loss: 4.6165e-04 - val_loss: 0.0048\n",
      "Epoch 15/20\n",
      "2409/2409 [==============================] - 2s 835us/step - loss: 4.6779e-04 - val_loss: 0.0066\n",
      "Epoch 16/20\n",
      "2409/2409 [==============================] - 2s 827us/step - loss: 4.5058e-04 - val_loss: 0.0036\n",
      "Epoch 17/20\n",
      "2409/2409 [==============================] - 2s 831us/step - loss: 4.5769e-04 - val_loss: 0.0059\n",
      "Epoch 18/20\n",
      "2409/2409 [==============================] - 2s 855us/step - loss: 4.6682e-04 - val_loss: 0.0072\n",
      "Epoch 19/20\n",
      "2409/2409 [==============================] - 2s 904us/step - loss: 4.7369e-04 - val_loss: 0.0048\n",
      "Epoch 20/20\n",
      "2409/2409 [==============================] - 2s 936us/step - loss: 4.6119e-04 - val_loss: 0.0062\n"
     ]
    },
    {
     "data": {
      "text/plain": [
       "<keras.callbacks.callbacks.History at 0x6372ded30>"
      ]
     },
     "execution_count": 8,
     "metadata": {},
     "output_type": "execute_result"
    }
   ],
   "source": [
    "#RNN 학습\n",
    "\n",
    "model.fit(x_train, y_train,\n",
    "         validation_data=(x_test, y_test),\n",
    "         batch_size = 10,\n",
    "         epochs = 20)"
   ]
  },
  {
   "cell_type": "code",
   "execution_count": 9,
   "metadata": {},
   "outputs": [
    {
     "data": {
      "image/png": "[encoded data removed]",
      "text/plain": [
       "<Figure size 1440x720 with 1 Axes>"
      ]
     },
     "metadata": {},
     "output_type": "display_data"
    }
   ],
   "source": [
    "#RNN 예측\n",
    "\n",
    "pred = model.predict(x_test)\n",
    "\n",
    "fig = plt.figure(facecolor='white', figsize=(20, 10))\n",
    "ax = fig.add_subplot(111)\n",
    "ax.plot(y_test, label='True')\n",
    "ax.plot(pred, label='Prediction')\n",
    "ax.legend()\n",
    "plt.show()"
   ]
  }
 ],
 "metadata": {
  "kernelspec": {
   "display_name": "Python 3.7.4 64-bit ('base': conda)",
   "language": "python",
   "name": "python37464bitbasecondaf4ac3d94617a485cbbe5ada1a6682628"
  },
  "language_info": {
   "codemirror_mode": {
    "name": "ipython",
    "version": 3
   },
   "file_extension": ".py",
   "mimetype": "text/x-python",
   "name": "python",
   "nbconvert_exporter": "python",
   "pygments_lexer": "ipython3",
   "version": "3.6.10"
  }
 },
 "nbformat": 4,
 "nbformat_minor": 4
}
